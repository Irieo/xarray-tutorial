{
 "cells": [
  {
   "cell_type": "markdown",
   "id": "7df3a8f0-0ef1-4e50-9d41-afb98c875426",
   "metadata": {},
   "source": [
    "<img src=\"../images/dask_horizontal.svg\" align=\"right\" width=\"30%\">"
   ]
  },
  {
   "cell_type": "markdown",
   "id": "0d4b7e4f-b66d-49c5-8ddd-7c460742878c",
   "metadata": {},
   "source": [
    "# Introducing Dask\n",
    "\n",
    "Dask is a parallel computing library that scales the existing Python libraries. This tutorial will introduce Dask and parallel data analysis more generally.\n",
    "\n",
    "\n",
    "## Learning Objectives \n",
    "\n",
    "- Describe components that make up Dask\n"
   ]
  },
  {
   "cell_type": "markdown",
   "id": "87cd1263-b2fe-47b5-9ed1-12c4b3de2240",
   "metadata": {},
   "source": [
    "\n",
    "## Dask Components \n",
    "\n",
    "Dask is composed of two main parts:\n",
    "\n",
    "- **Dask Collections**\n",
    "- **Dynamic Task Scheduling**\n",
    "\n",
    "<img src=\"../images/Dask Overview (Light).png\" width=\"80%\">\n",
    "\n",
    "1. High-level collection APIs:\n",
    "  - **Dask Array**: Parallel NumPy Arrays\n",
    "  - **Dask DataFrame**: Parallel Pandas DataFrames\n",
    "  - **Dask Bag**: Parallel lists\n",
    "  - **Dask ML**: Parallel Scikit-learn\n",
    "\n",
    "\n",
    "2. Low-level collection APIs:\n",
    "  - **Dask Delayed**: Lazy parallel objects\n",
    "  - **Dask Futures**: Eager parallel objects\n",
    "\n",
    "\n",
    "3. Task Scheduling\n",
    "  - **Scheduler**: \n",
    "    - creates and manages directed acyclic graphs (DAG)s\n",
    "    - distributes tasks to workers\n",
    "    \n",
    "    \n",
    "    \n",
    "<div class=\"admonition alert alert-info\">\n",
    "    <p class=\"admonition-title\" style=\"font-weight:bold\">Lazy evaluation vs eager evaluation</p>\n",
    "    <ul>\n",
    "        \n",
    "        <li> Lazy evaluation: objects are evaluated just in time when the results are needed </li> \n",
    "    \n",
    "<li>Eager evaluation: objects are evaluated in real time regardless if the results are needed immediately or not </li>\n",
    "    </ul>\n",
    "</div>\n",
    "    \n"
   ]
  },
  {
   "cell_type": "markdown",
   "id": "9587dd62-6873-4056-b606-5806f64e11e7",
   "metadata": {},
   "source": [
    "## Advantages of using Dask\n",
    "\n",
    "- **Familiarity**: Dask collections such as Dask Array, Dask DataFrames provide decent NumPy and Pandas compatible APIs.\n",
    "- **Responsive**: Dask is designed with interactive computing in mind. \n",
    "    - It provides rapid feedback and diagnostics to aid humans\n",
    "- **Scale up and scale down**: It scales well from single machine (laptop) to clusters (100s of machines)\n",
    "    - This ease of transition between single machine to moderate clusters makes it easy for users to prototype their workflows on their local machines and seamlessy transition to a cluster when needed. \n",
    "    - This also gives users a lot of flexibility when choosing the best to deploy and run their workflows. \n",
    "- **Flexibility**: Dask supports interfacing with popular cluster resource managers such as PBS/SLURM/Kubernetes, etc.. with a minimal amount of effort\n",
    "\n",
    "<img src=\"../images/Dask Cluster Manager (Light)(1).png\" width=\"80%\">"
   ]
  },
  {
   "cell_type": "markdown",
   "id": "ea2c600b-8fb5-4dfb-aede-d85870fbb9bf",
   "metadata": {},
   "source": [
    "## Task Graphs\n",
    "\n",
    "Dask represents distributed/parallel computations with task graphs, more specifically [directed acyclic graphs](https://en.wikipedia.org/wiki/Directed_acyclic_graph).\n",
    "\n",
    "Directed acyclic graphs are made up of nodes and have a clearly defined start and end, a single traversal path, and no looping \n",
    "\n",
    "<img src=\"../images/dask-task-stream.gif\">"
   ]
  },
  {
   "cell_type": "markdown",
   "id": "45775347-0f7e-4882-a5a2-4bc0ce60791a",
   "metadata": {},
   "source": [
    "---"
   ]
  },
  {
   "cell_type": "markdown",
   "id": "238a4c70-964a-4667-b399-26e308ea4841",
   "metadata": {},
   "source": [
    "## Resources and references\n",
    "\n",
    "* Reference\n",
    "    *  [Docs](https://dask.org/)\n",
    "    *  [Examples](https://examples.dask.org/)\n",
    "    *  [Code](https://github.com/dask/dask/)\n",
    "    *  [Blog](https://blog.dask.org/)\n",
    "*  Ask for help\n",
    "    *   [`dask`](http://stackoverflow.com/questions/tagged/dask) tag on Stack Overflow, for usage questions\n",
    "    *   [github discussions](https://github.com/dask/dask/discussions) for general, non-bug, discussion, and usage questions\n",
    "    *   [github issues](https://github.com/dask/dask/issues/new) for bug reports and feature requests\n",
    "    \n",
    "* Pieces of this notebook are adapted from the following sources\n",
    "  * https://github.com/dask/dask-tutorial\n",
    "  \n",
    "  \n",
    " <div class=\"admonition alert alert-success\">\n",
    "    <p class=\"title\" style=\"font-weight:bold\">Next: <a href=\"./08-dask-delayed.ipynb\">Parallelizing code with dask.delayed</a></p>\n",
    "    \n",
    "</div>"
   ]
  }
 ],
 "metadata": {
  "kernelspec": {
   "display_name": "Python 3",
   "language": "python",
   "name": "python3"
  },
  "language_info": {
   "codemirror_mode": {
    "name": "ipython",
    "version": 3
   },
   "file_extension": ".py",
   "mimetype": "text/x-python",
   "name": "python",
   "nbconvert_exporter": "python",
   "pygments_lexer": "ipython3",
   "version": "3.9.6"
  }
 },
 "nbformat": 4,
 "nbformat_minor": 5
}
