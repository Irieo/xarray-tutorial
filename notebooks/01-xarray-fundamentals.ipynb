{
 "cells": [
  {
   "cell_type": "markdown",
   "metadata": {},
   "source": [
    "# Xarray Fundamentals"
   ]
  },
  {
   "cell_type": "markdown",
   "metadata": {},
   "source": [
    "---"
   ]
  },
  {
   "cell_type": "markdown",
   "metadata": {},
   "source": [
    "## Learning Objectives\n",
    "\n",
    "- Provide an overview of xarray\n",
    "- Describe the core xarray data structures, the `DataArray` and the `Dataset`, and the components that make them up\n",
    "- Load xarray dataset from a netCDF file \n",
    "- Load xarray dataset from a GRIB file\n",
    "- Load xarray dataset from a remote dataset from a THREDDS server\n"
   ]
  },
  {
   "cell_type": "markdown",
   "metadata": {},
   "source": [
    "## Prerequisites\n",
    "\n",
    "\n",
    "| Concepts | Importance | Notes |\n",
    "| --- | --- | --- |\n",
    "| Basic familiarity with NumPy | Necessary | |\n",
    "| Basic familiarity with Pandas | Helpful | |\n",
    "| [Understanding of NetCDF Data Model](https://www.unidata.ucar.edu/software/netcdf/docs/netcdf_data_model.html) | Helpful | Familiarity with metadata structure |\n",
    "\n",
    "\n",
    "- **Time to learn**: *15-20 minutes*\n",
    "\n"
   ]
  },
  {
   "cell_type": "markdown",
   "metadata": {},
   "source": [
    "---"
   ]
  },
  {
   "cell_type": "markdown",
   "metadata": {},
   "source": [
    "## Imports\n"
   ]
  },
  {
   "cell_type": "code",
   "execution_count": null,
   "metadata": {},
   "outputs": [],
   "source": [
    "import xarray as xr  # \"canonical\" namespace short-hand"
   ]
  },
  {
   "cell_type": "markdown",
   "metadata": {},
   "source": [
    "## What is Xarray?\n",
    "\n",
    "Xarray is a Python library for working with **labeled**, **multi dimensional** arrays. \n",
    "\n",
    "- Built on top of numpy and pandas \n",
    "- Brings the power of pandas to multidimensional arrays \n",
    "- Supports data of any dimensionality "
   ]
  },
  {
   "cell_type": "markdown",
   "metadata": {},
   "source": [
    "## Core Data Structures\n",
    "\n",
    "- Xarray has **two** main data structures:\n",
    "    - `xarray.DataArray`: a fancy, labelled version of `numpy.ndarray`  with associated coordinates. \n",
    "    - `xarray.Dataset`: a collection of multiple `xarray.DataArray` that share the same coordinates and/or dimensions.\n",
    "\n",
    "---\n",
    "\n",
    "<img src=\"../images/xarray-data-structures.svg\">"
   ]
  },
  {
   "cell_type": "markdown",
   "metadata": {},
   "source": [
    "### Dataset"
   ]
  },
  {
   "cell_type": "markdown",
   "metadata": {},
   "source": [
    "Xarray's interface is heavily inspired by the [netCDF data model](https://www.unidata.ucar.edu/software/netcdf/docs/netcdf_data_model.html). Xarray's Dataset is designed as an in-memory representation of a netCDF dataset. \n",
    "\n",
    "\n",
    "#### Loading data from a netCDF file\n",
    "\n",
    "First, let's open a local netCDF file using the `xarray.open_dataset()` function:"
   ]
  },
  {
   "cell_type": "code",
   "execution_count": null,
   "metadata": {},
   "outputs": [],
   "source": [
    "%%time\n",
    "ds = xr.open_dataset(\n",
    "    \"./data/tas_Amon_CESM2_historical_r11i1p1f1_gn_200001-201412.nc\", engine=\"netcdf4\"\n",
    ")"
   ]
  },
  {
   "cell_type": "markdown",
   "metadata": {},
   "source": [
    "By default, `xarray.open_dataset()` function uses **lazy loading** i.e. it just loads in the coordinate and attribute metadata and **not** the data that correspond to data variables themselves. The data variables are loaded only on actual values access (e.g. when performing some calculation, slicing, ...) or with `.load()` method. \n",
    "\n",
    "Let's look at the HTML representation of the loaded dataset:"
   ]
  },
  {
   "cell_type": "code",
   "execution_count": null,
   "metadata": {},
   "outputs": [],
   "source": [
    "ds"
   ]
  },
  {
   "cell_type": "markdown",
   "metadata": {},
   "source": [
    "\n",
    "<div class=\"admonition alert alert-info\">\n",
    "    <p class=\"title\" style=\"font-weight:bold\">Text based representation</p>\n",
    "    If you prefer a text based representation, you can set the display_style='text' by uncommenting the line below\n",
    "</div>\n"
   ]
  },
  {
   "cell_type": "code",
   "execution_count": null,
   "metadata": {},
   "outputs": [],
   "source": [
    "# xr.set_options(display_style=\"text\")"
   ]
  },
  {
   "cell_type": "markdown",
   "metadata": {},
   "source": [
    "To look at the corresponding netCDF representation, we can use the `.info()` method:"
   ]
  },
  {
   "cell_type": "code",
   "execution_count": null,
   "metadata": {},
   "outputs": [],
   "source": [
    "ds.info()"
   ]
  },
  {
   "cell_type": "markdown",
   "metadata": {},
   "source": [
    "Datasets have the following key properties:\n",
    "- `data_vars`: an dictionary of `DataArrays` corresponding to data variables \n",
    "- `dims`: a dictionary mapping from dimenion names to the fixed length of each dimension (e.g. `{'time': 1815, 'nv': 2, 'latitude': 180, 'longitude': 360}` )\n",
    "- `coords`: a dictionary-like container of arrays (coordinates) that label each point (tick label) along our dimensions\n",
    "- `attrs`: a dictionary holding arbitrary metadata pertaining to the dataset"
   ]
  },
  {
   "cell_type": "code",
   "execution_count": null,
   "metadata": {},
   "outputs": [],
   "source": [
    "# variables that are in our dataset\n",
    "ds.data_vars"
   ]
  },
  {
   "cell_type": "code",
   "execution_count": null,
   "metadata": {},
   "outputs": [],
   "source": [
    "# dataset dimensions\n",
    "ds.dims"
   ]
  },
  {
   "cell_type": "code",
   "execution_count": null,
   "metadata": {},
   "outputs": [],
   "source": [
    "# dataset coordinates\n",
    "ds.coords"
   ]
  },
  {
   "cell_type": "code",
   "execution_count": null,
   "metadata": {},
   "outputs": [],
   "source": [
    "# dataset global attributes\n",
    "ds.attrs"
   ]
  },
  {
   "cell_type": "markdown",
   "metadata": {},
   "source": [
    "### DataArray\n",
    "\n",
    "The DataArray is xarray's implementation of a labeled, multi-dimensional array. It has several key properties:\n",
    "\n",
    "- `data`: a Duck array (`numpy.ndarray` or [`dask.array`](https://docs.dask.org/en/latest/array.html) or [`sparse`](https://sparse.pydata.org/en/stable/) or [`cupy.array`](https://docs.cupy.dev/en/stable/index.html) holding the array's values). \n",
    "- `dims`: dimension names for each axis e.g. `(lat, lon, time)`\n",
    "- `coords`:  a dictionary-like container of arrays (coordinates) that label each point (tick label) along our dimensions\n",
    "- `attrs`: a dictionary that holds arbitrary attributes/metadata (such as units). \n",
    "- `name`: an arbitrary name of the array"
   ]
  },
  {
   "cell_type": "code",
   "execution_count": null,
   "metadata": {},
   "outputs": [],
   "source": [
    "# Extract the tas variable (dataarray)\n",
    "ds[\"tas\"]"
   ]
  },
  {
   "cell_type": "code",
   "execution_count": null,
   "metadata": {},
   "outputs": [],
   "source": [
    "# ds[\"tas\"] is equivalent to ds.tas\n",
    "ds.tas"
   ]
  },
  {
   "cell_type": "markdown",
   "metadata": {},
   "source": [
    "\n",
    "<div class=\"admonition alert alert-warning\">\n",
    "    <p class=\"admonition-title\" style=\"font-weight:bold\">Warning: dot notation vs bracket notation</p>\n",
    "\n",
    "\n",
    "\n",
    "\n",
    "<ul>\n",
    "    <li>You can use this dot notation access only if the  variable/datarray name is a valid Python identifier, e.g. \"mydataset.1\" is not allowed. See <a href=\"https://docs.python.org/3/reference/lexical_analysis.html#identifiers\">here</a> for an explanation of valid identifiers.</li>\n",
    "<li>Some unexpected behavior may occur if the variable/datarray name conflicts with an existing method name, e.g. Using \"ds.min\" to refer to a variable called \"min\" collides with the \"min\" (minimum) xarray method, but \"ds['min']\" works fine.</li>\n",
    "</ul>\n",
    "</div>"
   ]
  },
  {
   "cell_type": "code",
   "execution_count": null,
   "metadata": {},
   "outputs": [],
   "source": [
    "# The actual array data\n",
    "ds[\"tas\"].data"
   ]
  },
  {
   "cell_type": "code",
   "execution_count": null,
   "metadata": {},
   "outputs": [],
   "source": [
    "# datarray coordinates\n",
    "ds[\"tas\"].coords"
   ]
  },
  {
   "cell_type": "code",
   "execution_count": null,
   "metadata": {},
   "outputs": [],
   "source": [
    "# dataarray attributes\n",
    "ds[\"tas\"].attrs"
   ]
  },
  {
   "cell_type": "markdown",
   "metadata": {},
   "source": [
    "### Dimensions vs Coordinates\n",
    "\n",
    "- A dimension is just a name of an axis, like \"longitude\" or \"time\"\n",
    "- Labeled coordinates are tick labels along an axis, e.g. \"2021-06-08\"\n",
    "\n",
    "\n",
    "#### `repr` & HTML representation of dimensions with or without coordinates \n",
    "\n",
    "| Dimension | HTML repr | Text based repr |\n",
    "| --- | --- | --- |\n",
    "| with coordinates | **bold** | `*` symbol in `.coords` |\n",
    "| without coordinates | normal | listed explicitly |\n",
    "\n"
   ]
  },
  {
   "cell_type": "code",
   "execution_count": null,
   "metadata": {},
   "outputs": [],
   "source": [
    "ds"
   ]
  },
  {
   "cell_type": "code",
   "execution_count": null,
   "metadata": {},
   "outputs": [],
   "source": [
    "with xr.set_options(display_style=\"text\"):\n",
    "    print(ds)"
   ]
  },
  {
   "cell_type": "markdown",
   "metadata": {},
   "source": [
    "\n",
    "\n",
    "### Loading data in other file formats \n",
    "\n",
    "\n",
    "#### Loading data from a grib file \n",
    "\n",
    "To load a grib file in an xarray Dataset, we use the `xarray.open_dataset()` and we need to specify `engine=\"cfgrib\"`. This requires the presence of `cfgrib` package in our Python environment:"
   ]
  },
  {
   "cell_type": "code",
   "execution_count": null,
   "metadata": {},
   "outputs": [],
   "source": [
    "ds = xr.open_dataset(\"./data/era5-levels-members.grib\", engine=\"cfgrib\")\n",
    "ds"
   ]
  },
  {
   "cell_type": "markdown",
   "metadata": {
    "slideshow": {
     "slide_type": "subslide"
    }
   },
   "source": [
    "#### Loading data from a remote OPENDAP server \n",
    "\n",
    "\n",
    "If you happen to have access to netCDF datasets that are hosted remotely on a THREDDS server, you can point xarray to a url and it will load/stream the data over the network without needing to download it locally. "
   ]
  },
  {
   "cell_type": "code",
   "execution_count": null,
   "metadata": {},
   "outputs": [],
   "source": [
    "url = \"http://esgf-data.ucar.edu/thredds/dodsC/esg_dataroot/CMIP6/CMIP/NCAR/CESM2/historical/r11i1p1f1/Amon/tas/gn/v20190514/tas_Amon_CESM2_historical_r11i1p1f1_gn_200001-201412.nc\""
   ]
  },
  {
   "cell_type": "code",
   "execution_count": null,
   "metadata": {},
   "outputs": [],
   "source": [
    "xr.open_dataset(url, engine=\"netcdf4\")"
   ]
  },
  {
   "cell_type": "markdown",
   "metadata": {},
   "source": [
    "---"
   ]
  },
  {
   "cell_type": "code",
   "execution_count": null,
   "metadata": {},
   "outputs": [],
   "source": [
    "%load_ext watermark\n",
    "%watermark --time --python --updated --iversion"
   ]
  },
  {
   "cell_type": "markdown",
   "metadata": {},
   "source": [
    "## Summary \n",
    "\n",
    "\n",
    "- Xarray has two main data structures: DataArray and Dataset\n",
    "- DataArrays store the multi-dimensional arrays\n",
    "- Xarray is built on top of Numpy and Pandas and its architecture is heavily inspired by the netCDF data model"
   ]
  },
  {
   "cell_type": "markdown",
   "metadata": {},
   "source": [
    "## Resources and References\n",
    "\n",
    "- [Xarray Documentation on Data Structures](http://xarray.pydata.org/en/latest/data-structures.html)\n",
    "- [Xarray Documentation on reading files and writing files](https://xarray.pydata.org/en/stable/io.html)\n",
    "- [cfgrib Documentation](https://github.com/ecmwf/cfgrib)"
   ]
  },
  {
   "cell_type": "markdown",
   "metadata": {},
   "source": [
    "<div class=\"admonition alert alert-success\">\n",
    "    <p class=\"title\" style=\"font-weight:bold\">Next: <a href=\"./02-indexing-and-selecting-data.ipynb\">Indexing and selecting data</a></p>\n",
    "</div>"
   ]
  }
 ],
 "metadata": {
  "kernelspec": {
   "display_name": "Python 3",
   "language": "python",
   "name": "python3"
  },
  "language_info": {
   "codemirror_mode": {
    "name": "ipython",
    "version": 3
   },
   "file_extension": ".py",
   "mimetype": "text/x-python",
   "name": "python",
   "nbconvert_exporter": "python",
   "pygments_lexer": "ipython3",
   "version": "3.9.4"
  },
  "toc-autonumbering": false
 },
 "nbformat": 4,
 "nbformat_minor": 4
}
