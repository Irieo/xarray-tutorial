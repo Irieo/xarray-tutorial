{
 "cells": [
  {
   "cell_type": "markdown",
   "metadata": {},
   "source": [
    "# Visualization"
   ]
  },
  {
   "cell_type": "markdown",
   "metadata": {},
   "source": [
    "---"
   ]
  },
  {
   "cell_type": "markdown",
   "metadata": {},
   "source": [
    "## Learning Objectives \n",
    "\n",
    "\n",
    "- How to use xarray's builtin, matplotlib-backed plotting interface to visualize datasets.\n",
    "- How to use `hvplot` to produce interactive plots "
   ]
  },
  {
   "cell_type": "markdown",
   "metadata": {},
   "source": [
    "## Prerequisites\n",
    "\n",
    "\n",
    "| Concepts | Importance | Notes |\n",
    "| --- | --- | --- |\n",
    "| [Understanding of xarray core data structures](./01-xarray-fundamentals.ipynb) | Necessary | |\n",
    "| [Familiarity with xarray indexing and subsetting](./02-indexing-and-subsetting.ipynb) | Necessary | |\n",
    "| [Basic familiarity with Matplotlib](https://numpy.org/doc/stable/reference/arrays.indexing.html) | Helpful | |\n",
    "\n",
    "\n",
    "- **Time to learn**: *medium*\n",
    "\n"
   ]
  },
  {
   "cell_type": "markdown",
   "metadata": {},
   "source": [
    "---"
   ]
  },
  {
   "cell_type": "markdown",
   "metadata": {},
   "source": [
    "## Imports\n"
   ]
  },
  {
   "cell_type": "code",
   "execution_count": null,
   "metadata": {},
   "outputs": [],
   "source": [
    "import xarray as xr"
   ]
  },
  {
   "cell_type": "markdown",
   "metadata": {},
   "source": [
    "Let's open the same dataset as before"
   ]
  },
  {
   "cell_type": "code",
   "execution_count": null,
   "metadata": {},
   "outputs": [],
   "source": [
    "ds = xr.open_dataset(\n",
    "    \"./data/tas_Amon_CESM2_historical_r11i1p1f1_gn_200001-201412.nc\", engine=\"netcdf4\"\n",
    ")\n",
    "ds"
   ]
  },
  {
   "cell_type": "markdown",
   "metadata": {},
   "source": [
    "## Basic plotting with via `.plot()`\n",
    "\n",
    "Xarray provides a `.plot()` method on `DataArray` and `Dataset`. This method is a wrapper around Matplotlib's `matplotlib.pyplot.plot()`. xaarray will automatically guess the type of plot based on the dimensionality of the data. By default `.plot()` creates:\n",
    "\n",
    "- a **line** plot for `1-D arrays` using `matplotlib.pyplot.plot()`\n",
    "- a **pcolormesh** plot for 2-D arrays using `matplotlib.pyplot.pcolormesh()`\n",
    "- a **histogram** for everything else (more than 2 dimensions) using `matplotlib.pyplot.hist()`\n",
    " "
   ]
  },
  {
   "cell_type": "markdown",
   "metadata": {},
   "source": [
    "### 1D line plots\n",
    "\n",
    "Let's select one spatial location and plot a time sesries of the near surface temperature"
   ]
  },
  {
   "cell_type": "code",
   "execution_count": null,
   "metadata": {},
   "outputs": [],
   "source": [
    "ds.tas.sel(lon=100, lat=10, method='nearest').plot(marker=\"o\", size=6);"
   ]
  },
  {
   "cell_type": "markdown",
   "metadata": {},
   "source": [
    "<div class=\"admonition alert alert-info\">\n",
    "    We are selecting a single point, so `.sel()` requires either an exact location that exists in the data, or to specify method argument to tell it how to choose a location from the data. \n",
    "</div>"
   ]
  },
  {
   "cell_type": "markdown",
   "metadata": {},
   "source": [
    "\n",
    "Lets say we want to compare plots of temperature at three different latitudes. We can use the `hue` keyword argument to do this."
   ]
  },
  {
   "cell_type": "code",
   "execution_count": null,
   "metadata": {},
   "outputs": [],
   "source": [
    "ds.tas.sel(lat=[-40, 0, 40], time=\"2013-03\", method=\"nearest\")"
   ]
  },
  {
   "cell_type": "code",
   "execution_count": null,
   "metadata": {},
   "outputs": [],
   "source": [
    "ds.tas.sel(lat=[-40, 0, 40], time=\"2013-03\", method=\"nearest\").plot(\n",
    "    x=\"lon\", hue=\"lat\", figsize=(8, 6)\n",
    ");"
   ]
  },
  {
   "cell_type": "markdown",
   "metadata": {},
   "source": [
    "### 2D plots"
   ]
  },
  {
   "cell_type": "markdown",
   "metadata": {},
   "source": [
    "Operator chaining means it is possible to have multiple selection operators and add `.plot()` to the end to visualise the result"
   ]
  },
  {
   "cell_type": "code",
   "execution_count": null,
   "metadata": {},
   "outputs": [],
   "source": [
    "ds.tas.isel(time=-10).sel(lon=slice(20, 160), lat=slice(-80, 25)).plot(robust=True, figsize=(8, 6));"
   ]
  },
  {
   "cell_type": "markdown",
   "metadata": {},
   "source": [
    "The x- and y-axes are labeled with full names — \"Latitude\", \"Longitude\" — along with units. The colorbar has a nice label, again with units. And the title tells us the timestamp of the data presented."
   ]
  },
  {
   "cell_type": "code",
   "execution_count": null,
   "metadata": {},
   "outputs": [],
   "source": [
    "# define keyword arguments that are passed to matptolib.pyplot.colorbar\n",
    "colorbar_kwargs = {\n",
    "    \"orientation\": \"horizontal\",\n",
    "    \"label\": \"my clustom label\",\n",
    "    \"pad\": 0.2,\n",
    "}\n",
    "\n",
    "ds.tas.isel(lon=1).plot(\n",
    "    x=\"time\",  # coordinate to plot on the x-axis of the plot\n",
    "    robust=True,  # set colorbar limits to 2nd and 98th percentile of data\n",
    "    cbar_kwargs=colorbar_kwargs,\n",
    ");"
   ]
  },
  {
   "cell_type": "markdown",
   "metadata": {},
   "source": [
    "\n",
    "### Faceting\n",
    "\n",
    "Faceting is an effective way of visualizing variations of 3D data where 2D slices are visualized in a panel (subplot) and the third dimensions is varied between panels (subplots)."
   ]
  },
  {
   "cell_type": "code",
   "execution_count": null,
   "metadata": {},
   "outputs": [],
   "source": [
    "ds.tas.sel(time=slice(\"2010\", \"2011\")).plot(col=\"time\", col_wrap=6, robust=True);"
   ]
  },
  {
   "cell_type": "markdown",
   "metadata": {},
   "source": [
    "See the [xarray documentation](https://xarray.pydata.org/en/stable/user-guide/plotting.html) for more on \"faceted\" plots or subplots."
   ]
  },
  {
   "cell_type": "markdown",
   "metadata": {},
   "source": [
    "### Histograms"
   ]
  },
  {
   "cell_type": "code",
   "execution_count": null,
   "metadata": {},
   "outputs": [],
   "source": [
    "ds.tas.plot();"
   ]
  },
  {
   "cell_type": "markdown",
   "metadata": {},
   "source": [
    "### Bonus Plot \n",
    "\n",
    "Let's look at the air temperature data but at for **all pressure levels**. We are going to select out the first time index and the longitude corresponding to the Himalayas and plot a vertical profile of the atmosphere from pole to pole:"
   ]
  },
  {
   "cell_type": "code",
   "execution_count": null,
   "metadata": {},
   "outputs": [],
   "source": [
    "ds_air_all_pressure_levels = xr.open_dataset(\n",
    "    \"data/ta_Amon_CESM2_historical_r11i1p1f1_gn_200001-201412.nc\", engine=\"netcdf4\"\n",
    ")\n",
    "ds_air_all_pressure_levels"
   ]
  },
  {
   "cell_type": "code",
   "execution_count": null,
   "metadata": {},
   "outputs": [],
   "source": [
    "data = ds_air_all_pressure_levels.ta.isel(time=-1).sel(lon=86.93, method='nearest')\n",
    "fig = data.plot(size=6, yincrease=False)\n",
    "fig.axes.set_title(\n",
    "    f'Vertical profile of Temperature from pole to pole \\nat longitude = {data.lon.data} and time = {data.time.data}',\n",
    "    size=15,\n",
    ");"
   ]
  },
  {
   "cell_type": "markdown",
   "metadata": {},
   "source": [
    "<div class=\"admonition alert alert-info\">\n",
    "     <ul>\n",
    "         <li>The yincrease=False option was used for the plot to invert the y-axis as pressure decreases with height</li>\n",
    "         <li>We can more complicated figures and/or make customizations to our plots by saving the returned object from .plot and accessing the .axes attribute of the returned object</li>\n",
    "    </ul>\n",
    "</div>"
   ]
  },
  {
   "cell_type": "markdown",
   "metadata": {},
   "source": [
    "---"
   ]
  },
  {
   "cell_type": "markdown",
   "metadata": {},
   "source": [
    "## Interactive visualization using `hvplot`\n",
    "\n",
    "Let's switch gears and look at how we can produce interactive plots via [holoviews](https://holoviews.org/). The holoviews plotting ecosystem provides the [hvplot](https://hvplot.holoviz.org/) package to allow easy visualization of xarray (and other) objects. These plots build on [Bokeh](https://docs.bokeh.org/en/latest/index.html) -- a Python library for creating interactive visualziatons for web browsers.\n",
    "\n",
    "\n",
    "To enable the `.hvplot` interface on xarray object, let's import the `hvplot.xarray` module:"
   ]
  },
  {
   "cell_type": "code",
   "execution_count": null,
   "metadata": {},
   "outputs": [],
   "source": [
    "import hvplot.xarray"
   ]
  },
  {
   "cell_type": "markdown",
   "metadata": {},
   "source": [
    "To use `hvplot` instead of `matplotlib`, we use the `.hvplot()` method:"
   ]
  },
  {
   "cell_type": "code",
   "execution_count": null,
   "metadata": {},
   "outputs": [],
   "source": [
    "ds.tas.hvplot()"
   ]
  },
  {
   "cell_type": "markdown",
   "metadata": {},
   "source": [
    "As you can see, calling `.hvplot()` behaves the same as `.plot()` i.e. it uses the same heuristics as `.plot()`. In this case, it produces a histogram for data with more than 3 dimensions. To plot a `pcolormesh`, tet's reduce the dimensionality of our data to 2D and call `.hvplot()` again:"
   ]
  },
  {
   "cell_type": "code",
   "execution_count": null,
   "metadata": {},
   "outputs": [],
   "source": [
    "ds.tas.isel(time=1).hvplot(cmap=\"fire\")"
   ]
  },
  {
   "cell_type": "code",
   "execution_count": null,
   "metadata": {},
   "outputs": [],
   "source": [
    "ds.tas.isel(time=-1, lon=100).hvplot()"
   ]
  },
  {
   "cell_type": "code",
   "execution_count": null,
   "metadata": {},
   "outputs": [],
   "source": [
    "ds.tas.sel(lat=28.5, lon=83.9, method='nearest').hvplot()"
   ]
  },
  {
   "cell_type": "markdown",
   "metadata": {},
   "source": [
    "So far we have had to subset our data in order to produce plots. `hvplot` provides convenient functionality for producing plots on-demand by via interactive widgets. Let's create a series of 2D for each time slice, We will use the `groupby` parameter to let hvplot know that we want to create a widget (a slider) for the time dimension:"
   ]
  },
  {
   "cell_type": "code",
   "execution_count": null,
   "metadata": {},
   "outputs": [],
   "source": [
    "ds.tas.hvplot(groupby=\"time\", clim=(ds.tas.min(), ds.tas.max()), cmap='turbo')"
   ]
  },
  {
   "cell_type": "markdown",
   "metadata": {},
   "source": [
    "Let's add more customizations to our time widget:"
   ]
  },
  {
   "cell_type": "code",
   "execution_count": null,
   "metadata": {},
   "outputs": [],
   "source": [
    "ds.tas.hvplot(\n",
    "    groupby=\"time\",\n",
    "    clim=(ds.tas.min(), ds.tas.max()),\n",
    "    cmap=\"turbo\",\n",
    "    widget_type=\"scrubber\",\n",
    "    widget_location=\"bottom\",\n",
    ")"
   ]
  },
  {
   "cell_type": "markdown",
   "metadata": {},
   "source": [
    "---"
   ]
  },
  {
   "cell_type": "code",
   "execution_count": null,
   "metadata": {},
   "outputs": [],
   "source": [
    "%load_ext watermark\n",
    "%watermark --time --python --updated --iversion"
   ]
  },
  {
   "cell_type": "markdown",
   "metadata": {},
   "source": [
    "## Summary \n",
    "\n",
    "- Xarray has plotting functionality that is a thin wrapper around the Matplotlib library\n",
    "- Xarray uses syntax and function names from Matplotlib whenever possible\n",
    "- Hvplot provides a neat interface to xarray for creating interactive plots"
   ]
  },
  {
   "cell_type": "markdown",
   "metadata": {},
   "source": [
    "## Resources and References\n",
    "\n",
    "- [Hvplot Documentation](https://hvplot.holoviz.org/index.html)\n",
    "- [Xarray Documentation - Plotting](https://xarray.pydata.org/en/stable/user-guide/plotting.html)\n",
    "- [Matplolib Documentation](https://matplotlib.org/stable/contents.html)\n",
    "\n",
    "<div class=\"admonition alert alert-info\">\n",
    "    <p class=\"title\" style=\"font-weight:bold\">Geocat-examples Gallery</p>\n",
    "    For geo-science specific visualization examples, please see the geocat-examples gallery which resides <a href=\"https://geocat-examples.readthedocs.io/\">here</a>.\n",
    "</div>\n"
   ]
  },
  {
   "cell_type": "markdown",
   "metadata": {},
   "source": [
    "<div class=\"admonition alert alert-success\">\n",
    "    <p class=\"title\" style=\"font-weight:bold\">Previous: <a href=\"./01-xarray-fundamentals.ipynb\">Xarray Fundamentals</a></p>\n",
    "         <p class=\"title\" style=\"font-weight:bold\">Next: <a href=\"./04-computation.ipynb\">Computation</a></p>\n",
    "</div>"
   ]
  }
 ],
 "metadata": {
  "interpreter": {
   "hash": "affdb75a3ef70a25a87eb00ec52822d75cad558e88f93d5bb3da0d72a04ea7e1"
  },
  "kernelspec": {
   "display_name": "Python 3",
   "language": "python",
   "name": "python3"
  },
  "language_info": {
   "codemirror_mode": {
    "name": "ipython",
    "version": 3
   },
   "file_extension": ".py",
   "mimetype": "text/x-python",
   "name": "python",
   "nbconvert_exporter": "python",
   "pygments_lexer": "ipython3",
   "version": "3.9.4"
  },
  "toc-autonumbering": false
 },
 "nbformat": 4,
 "nbformat_minor": 4
}
