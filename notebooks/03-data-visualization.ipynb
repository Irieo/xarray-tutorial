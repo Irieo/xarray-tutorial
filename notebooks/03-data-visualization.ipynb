{
 "cells": [
  {
   "cell_type": "markdown",
   "metadata": {},
   "source": [
    "# Visualization"
   ]
  },
  {
   "cell_type": "markdown",
   "metadata": {},
   "source": [
    "---"
   ]
  },
  {
   "cell_type": "markdown",
   "metadata": {},
   "source": [
    "## Learning Objectives \n",
    "\n",
    "\n",
    "- How to use xarray's builtin, matplotlib-backed plotting interface to visualize datasets.\n",
    "- How to use `hvplot` to produce interactive plots "
   ]
  },
  {
   "cell_type": "markdown",
   "metadata": {},
   "source": [
    "## Prerequisites\n",
    "\n",
    "\n",
    "| Concepts | Importance | Notes |\n",
    "| --- | --- | --- |\n",
    "| [Understanding of xarray core data structures](./01-xarray-fundamentals.ipynb) | Necessary | |\n",
    "| [Familiarity with xarray indexing and subsetting](./02-indexing-and-subsetting.ipynb) | Necessary | |\n",
    "| [Basic familiarity with Matplotlib](https://numpy.org/doc/stable/reference/arrays.indexing.html) | Helpful | |\n",
    "\n",
    "\n",
    "- **Time to learn**: *medium*\n",
    "\n"
   ]
  },
  {
   "cell_type": "markdown",
   "metadata": {},
   "source": [
    "---"
   ]
  },
  {
   "cell_type": "markdown",
   "metadata": {},
   "source": [
    "## Imports\n"
   ]
  },
  {
   "cell_type": "code",
   "execution_count": null,
   "metadata": {},
   "outputs": [],
   "source": [
    "import xarray as xr"
   ]
  },
  {
   "cell_type": "markdown",
   "metadata": {},
   "source": [
    "Let's open the same dataset as before"
   ]
  },
  {
   "cell_type": "code",
   "execution_count": null,
   "metadata": {},
   "outputs": [],
   "source": [
    "ds = xr.open_dataset(\n",
    "    \"./data/tas_Amon_CESM2_historical_r11i1p1f1_gn_200001-201412.nc\", engine=\"netcdf4\"\n",
    ")\n",
    "ds"
   ]
  },
  {
   "cell_type": "markdown",
   "metadata": {},
   "source": [
    "## Basic plotting with via `.plot()`\n",
    "\n",
    "Xarray provides a `.plot()` method on `DataArray` and `Dataset`. This method is a wrapper around Matplotlib's `matplotlib.pyplot.plot()`. By default `.plot()` creates \n",
    "- a **line** plot for `1-D arrays` using `matplotlib.pyplot.plot()`\n",
    "- a **pcolormesh** plot for 2-D arrays using `matplotlib.pyplot.pcolormesh()`\n",
    "- a **histogram** for everything else using `matplotlib.pyplot.hist()`\n"
   ]
  },
  {
   "cell_type": "markdown",
   "metadata": {},
   "source": [
    "### Histograms"
   ]
  },
  {
   "cell_type": "code",
   "execution_count": null,
   "metadata": {},
   "outputs": [],
   "source": [
    "ds.tas.plot();"
   ]
  },
  {
   "cell_type": "markdown",
   "metadata": {},
   "source": [
    "### 2D plots"
   ]
  },
  {
   "cell_type": "markdown",
   "metadata": {},
   "source": [
    "Operator chaining means it is possible to have multiple selection operators and add `.plot()` to the end to visualise the result"
   ]
  },
  {
   "cell_type": "code",
   "execution_count": null,
   "metadata": {},
   "outputs": [],
   "source": [
    "ds.tas.isel(time=-10).sel(lon=slice(20, 160), lat=slice(-80, 25)).plot(robust=True, figsize=(8, 6));"
   ]
  },
  {
   "cell_type": "markdown",
   "metadata": {},
   "source": [
    "The x- and y-axes are labeled with full names — \"Latitude\", \"Longitude\" — along with units. The colorbar has a nice label, again with units. And the title tells us the timestamp of the data presented."
   ]
  },
  {
   "cell_type": "code",
   "execution_count": null,
   "metadata": {},
   "outputs": [],
   "source": [
    "colorbar_kwargs = {\n",
    "    \"orientation\": \"horizontal\",\n",
    "    \"label\": \"custom label\",\n",
    "    \"pad\": 0.2,\n",
    "}  # passed to plt.colorbar\n",
    "\n",
    "ds.tas.isel(lon=1).plot(\n",
    "    x=\"time\",  # coordinate to plot on the x-axis of the plot\n",
    "    robust=True,  # set colorbar limits to 2nd and 98th percentile of data\n",
    "    cbar_kwargs=colorbar_kwargs,\n",
    ");"
   ]
  },
  {
   "cell_type": "markdown",
   "metadata": {},
   "source": [
    "### 1D line plots"
   ]
  },
  {
   "cell_type": "code",
   "execution_count": null,
   "metadata": {},
   "outputs": [],
   "source": [
    "ds.tas.isel(time=-10, lon=100).plot(marker=\"^\");"
   ]
  },
  {
   "cell_type": "markdown",
   "metadata": {},
   "source": [
    "\n",
    "Lets say we want to compare plots of temperature at three different latitudes. We can use the `hue` keyword argument to do this."
   ]
  },
  {
   "cell_type": "code",
   "execution_count": null,
   "metadata": {},
   "outputs": [],
   "source": [
    "ds.tas.sel(lat=[-40, 0, 40], time=\"2013-03\", method=\"nearest\")"
   ]
  },
  {
   "cell_type": "code",
   "execution_count": null,
   "metadata": {},
   "outputs": [],
   "source": [
    "ds.tas.sel(lat=[-40, 0, 40], time=\"2013-03\", method=\"nearest\").plot(\n",
    "    x=\"lon\", hue=\"lat\", figsize=(8, 6)\n",
    ");"
   ]
  },
  {
   "cell_type": "markdown",
   "metadata": {},
   "source": [
    "\n",
    "### Faceting\n",
    "\n",
    "Faceting is the art of presenting \"small multiples\" of the data. It is an effective way of visualizing variations of 3D data where 2D slices are visualized in a panel (subplot) and the third dimensions is varied between panels (subplots)."
   ]
  },
  {
   "cell_type": "code",
   "execution_count": null,
   "metadata": {},
   "outputs": [],
   "source": [
    "ds.tas.sel(time=slice(\"2010\", \"2011\")).plot(col=\"time\", col_wrap=6, robust=True);"
   ]
  },
  {
   "cell_type": "markdown",
   "metadata": {},
   "source": [
    "---"
   ]
  },
  {
   "cell_type": "markdown",
   "metadata": {},
   "source": [
    "## Interactive visualization using `hvplot`\n",
    "\n",
    "The holoviews plotting ecosystem provides the hvplot package to allow easy visualization of xarray (and other) objects (https://hvplot.holoviz.org/). These plots build on Bokeh.\n",
    "\n"
   ]
  },
  {
   "cell_type": "code",
   "execution_count": null,
   "metadata": {},
   "outputs": [],
   "source": [
    "import hvplot.xarray"
   ]
  },
  {
   "cell_type": "code",
   "execution_count": null,
   "metadata": {},
   "outputs": [],
   "source": [
    "ds.tas.hvplot()"
   ]
  },
  {
   "cell_type": "code",
   "execution_count": null,
   "metadata": {},
   "outputs": [],
   "source": [
    "ds.tas.isel(time=1).hvplot(cmap=\"fire\")"
   ]
  },
  {
   "cell_type": "code",
   "execution_count": null,
   "metadata": {},
   "outputs": [],
   "source": [
    "ds.tas.isel(time=-1, lon=100).hvplot()"
   ]
  },
  {
   "cell_type": "code",
   "execution_count": null,
   "metadata": {},
   "outputs": [],
   "source": [
    "ds.tas.hvplot(groupby=\"time\", clim=(ds.tas.min(), ds.tas.max()), cmap='turbo')"
   ]
  },
  {
   "cell_type": "markdown",
   "metadata": {},
   "source": [
    "Let's add a widget for time and set colorbar limites"
   ]
  },
  {
   "cell_type": "code",
   "execution_count": null,
   "metadata": {},
   "outputs": [],
   "source": [
    "ds.tas.hvplot(\n",
    "    groupby=\"time\",\n",
    "    clim=(ds.tas.min(), ds.tas.max()),\n",
    "    cmap=\"turbo\",\n",
    "    widget_type=\"scrubber\",\n",
    "    widget_location=\"bottom\",\n",
    ")"
   ]
  },
  {
   "cell_type": "markdown",
   "metadata": {},
   "source": [
    "---"
   ]
  },
  {
   "cell_type": "markdown",
   "metadata": {},
   "source": [
    "## Summary \n",
    "\n",
    "- Xarray has plotting functionality that is a thin wrapper around the Matplotlib library\n",
    "- Xarray uses syntax and function names from Matplotlib whenever possible\n",
    "- Hvplot provides a neat interface to xarray for creating interactive plots"
   ]
  },
  {
   "cell_type": "code",
   "execution_count": null,
   "metadata": {},
   "outputs": [],
   "source": [
    "%load_ext watermark\n",
    "%watermark --time --python --updated --iversion"
   ]
  },
  {
   "cell_type": "markdown",
   "metadata": {},
   "source": [
    "## Resources and References\n",
    "\n",
    "- [Hvplot Documentation](https://hvplot.holoviz.org/index.html)\n",
    "- [Xarray Documentation - Plotting](https://xarray.pydata.org/en/stable/user-guide/plotting.html)\n",
    "- [Matplolib Documentation](https://matplotlib.org/stable/contents.html)\n",
    "\n",
    "<div class=\"admonition alert alert-info\">\n",
    "    <p class=\"title\" style=\"font-weight:bold\">Geocat-examples Gallery</p>\n",
    "    For geoscience specific visualization examples, please see the geocat-examples gallery which resides <a href=\"https://geocat-examples.readthedocs.io/\">here</a>\n",
    "</div>\n"
   ]
  },
  {
   "cell_type": "markdown",
   "metadata": {},
   "source": [
    "<div class=\"admonition alert alert-success\">\n",
    "    <p class=\"title\" style=\"font-weight:bold\">Previous: <a href=\"./01-xarray-fundamentals.ipynb\">Xarray Fundamentals</a></p>\n",
    "         <p class=\"title\" style=\"font-weight:bold\">Next: <a href=\"./04-computation.ipynb\">Computation</a></p>\n",
    "</div>"
   ]
  }
 ],
 "metadata": {
  "kernelspec": {
   "display_name": "Python 3",
   "language": "python",
   "name": "python3"
  },
  "language_info": {
   "codemirror_mode": {
    "name": "ipython",
    "version": 3
   },
   "file_extension": ".py",
   "mimetype": "text/x-python",
   "name": "python",
   "nbconvert_exporter": "python",
   "pygments_lexer": "ipython3",
   "version": "3.9.4"
  },
  "toc-autonumbering": false
 },
 "nbformat": 4,
 "nbformat_minor": 4
}
