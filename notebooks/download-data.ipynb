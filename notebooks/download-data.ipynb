{
 "cells": [
  {
   "cell_type": "code",
   "execution_count": 32,
   "id": "5d7665ed-2124-4773-b8db-5f88cd88ada9",
   "metadata": {},
   "outputs": [],
   "source": [
    "import gzip\n",
    "import pathlib\n",
    "import shutil\n",
    "\n",
    "import requests\n",
    "\n",
    "\n",
    "def download_data(url, data_dir=\"data\", unarchive=False, clobber=False):\n",
    "    data_dir = pathlib.Path(data_dir)\n",
    "    data_dir.mkdir(parents=True, exist_ok=True)\n",
    "    local_filename = data_dir / url.split('/')[-1]\n",
    "    if (local_filename.exists() and clobber) or not local_filename.exists():\n",
    "        with requests.get(url, stream=True) as rstream:\n",
    "            with local_filename.open(\"wb\") as f:\n",
    "                shutil.copyfileobj(rstream.raw, f)\n",
    "\n",
    "    if unarchive:\n",
    "        local_filename_unarchived = data_dir / local_filename.stem\n",
    "        if (\n",
    "            local_filename_unarchived.exists() and clobber\n",
    "        ) and not local_filename_unarchived.exists():\n",
    "            with gzip.open(local_filename, \"rb\") as fin:\n",
    "                with local_filename_unarchived.open(\"wb\") as fout:\n",
    "                    shutil.copyfileobj(fin, fout)\n",
    "        return str(local_filename_unarchived)\n",
    "    return local_filename"
   ]
  },
  {
   "cell_type": "code",
   "execution_count": 33,
   "id": "d8c529ad-183e-4c23-ac2f-ea41bbc6950c",
   "metadata": {},
   "outputs": [],
   "source": [
    "url = \"https://www.metoffice.gov.uk/hadobs/hadisst/data/HadISST_sst.nc.gz\"\n",
    "a = download_data(url, unarchive=True)"
   ]
  },
  {
   "cell_type": "code",
   "execution_count": null,
   "id": "56d6f41f-7f98-4c2a-828c-4ae420cabe83",
   "metadata": {},
   "outputs": [],
   "source": []
  }
 ],
 "metadata": {
  "kernelspec": {
   "display_name": "Python 3",
   "language": "python",
   "name": "python3"
  },
  "language_info": {
   "codemirror_mode": {
    "name": "ipython",
    "version": 3
   },
   "file_extension": ".py",
   "mimetype": "text/x-python",
   "name": "python",
   "nbconvert_exporter": "python",
   "pygments_lexer": "ipython3",
   "version": "3.9.4"
  }
 },
 "nbformat": 4,
 "nbformat_minor": 5
}
