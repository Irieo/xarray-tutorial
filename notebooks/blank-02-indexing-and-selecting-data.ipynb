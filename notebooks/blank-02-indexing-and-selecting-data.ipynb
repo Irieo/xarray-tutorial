{
 "cells": [
  {
   "cell_type": "markdown",
   "metadata": {},
   "source": [
    "# Indexing and Selecting data\n"
   ]
  },
  {
   "cell_type": "markdown",
   "metadata": {},
   "source": [
    "---"
   ]
  },
  {
   "cell_type": "markdown",
   "metadata": {},
   "source": [
    "## Learning Objectives \n",
    "\n",
    "\n",
    "- Select data by position using `.isel()` with values or slices\n",
    "- Select data by coordinate label/value using `.sel()` with values or slices\n",
    "- Use nearest-neighbor lookups with `.sel()`\n",
    "- Use `interp()` to interpolate by coordinate labels"
   ]
  },
  {
   "cell_type": "markdown",
   "metadata": {},
   "source": [
    "## Prerequisites\n",
    "\n",
    "\n",
    "| Concepts | Importance | Notes |\n",
    "| --- | --- | --- |\n",
    "| [Understanding of xarray core data structures](./01-xarray-fundamentals.ipynb) | Necessary | |\n",
    "| [Basic familiarity with NumPy indexing](https://numpy.org/doc/stable/reference/arrays.indexing.html) | Helpful | |\n",
    "| [Basic familiarity with Pandas indexing](https://pandas.pydata.org/pandas-docs/stable/user_guide/indexing.html) | Helpful | |\n",
    "\n",
    "- **Time to learn**: *15-20 minutes*\n",
    "\n"
   ]
  },
  {
   "cell_type": "markdown",
   "metadata": {},
   "source": [
    "---"
   ]
  },
  {
   "cell_type": "markdown",
   "metadata": {},
   "source": [
    "## Imports\n"
   ]
  },
  {
   "cell_type": "code",
   "execution_count": null,
   "metadata": {},
   "outputs": [],
   "source": [
    "import xarray as xr"
   ]
  },
  {
   "cell_type": "code",
   "execution_count": null,
   "metadata": {},
   "outputs": [],
   "source": [
    "ds = xr.open_dataset(\n",
    "    \"./data/tas_Amon_CESM2_historical_r11i1p1f1_gn_200001-201412.nc\", engine=\"netcdf4\"\n",
    ")\n",
    "ds"
   ]
  },
  {
   "cell_type": "markdown",
   "metadata": {},
   "source": [
    "## NumPy Positional Indexing\n",
    "\n",
    "When working with numpy, indexing is done by position (slices/ranges/scalars)."
   ]
  },
  {
   "cell_type": "code",
   "execution_count": null,
   "metadata": {},
   "outputs": [],
   "source": [
    "# retrieve numpy array\n"
   ]
  },
  {
   "cell_type": "code",
   "execution_count": null,
   "metadata": {},
   "outputs": [],
   "source": []
  },
  {
   "cell_type": "markdown",
   "metadata": {},
   "source": [
    "Let's extract a timeseries for a single spatical location \n"
   ]
  },
  {
   "cell_type": "code",
   "execution_count": null,
   "metadata": {},
   "outputs": [],
   "source": []
  },
  {
   "cell_type": "markdown",
   "metadata": {},
   "source": [
    "<div class=\"admonition alert alert-warning\">\n",
    "    <p class=\"admonition-title\" style=\"font-weight:bold\"></p>\n",
    "    but wait, what labels go with 20 and 40? Was that lat/lon or lon/lat? Where are the timestamps that go along with this time-series?\n",
    "</div>"
   ]
  },
  {
   "cell_type": "markdown",
   "metadata": {},
   "source": [
    "## Different choices for indexing \n",
    "\n",
    "\n",
    "Xarray supports two kinds of indexing \n",
    "\n",
    "- Positional indexing via `.isel()`: provides primarily integer position based index (from `0` to `length-1` of the axis/dimension\n",
    "- Label indexing via `.sel()`: provides primarily label based index\n",
    "\n",
    "Xarray's indexing methods preserves the coordinate labels and associated metadata.\n",
    "\n",
    "\n",
    "\n",
    "### Selection by position\n",
    "\n",
    "The `.isel()` method is the primary access method for **purely integer based indexing**. The following are valid inputs:\n",
    "- An integer e.g. `lat=10`\n",
    "- A list or array of integers `lon=[10, 20, 39]`\n",
    "- A slice object with integers e.g. `time=slice(2, 20)`"
   ]
  },
  {
   "cell_type": "code",
   "execution_count": null,
   "metadata": {},
   "outputs": [],
   "source": [
    "# the original object i.e. no selection"
   ]
  },
  {
   "cell_type": "code",
   "execution_count": null,
   "metadata": {},
   "outputs": [],
   "source": []
  },
  {
   "cell_type": "code",
   "execution_count": null,
   "metadata": {},
   "outputs": [],
   "source": []
  },
  {
   "cell_type": "code",
   "execution_count": null,
   "metadata": {},
   "outputs": [],
   "source": []
  },
  {
   "cell_type": "markdown",
   "metadata": {},
   "source": [
    "### Selection by label \n",
    "\n",
    "\n",
    "The `.sel()` method is the primary access method for **purely coordinate label based indexing.**. The following are valid inputs:\n",
    "\n",
    "- A single coordinate label e.g. `time=\"2021-03-01\"`\n",
    "- A list or array of coordinate labels `lon=[=\"2021-01-01\", =\"2021-03-10\", =\"2021-03-12\"]`\n",
    "- A slice object with coordinate labels e.g. `time=slice(\"2021-01-01\", \"2021-03-01\")`.  (Note that contrary to usual Python slices, both the start and the stop are included, when present in the index!)"
   ]
  },
  {
   "cell_type": "code",
   "execution_count": null,
   "metadata": {},
   "outputs": [],
   "source": []
  },
  {
   "cell_type": "markdown",
   "metadata": {},
   "source": [
    "It is also possible to use slice for the time dimension:"
   ]
  },
  {
   "cell_type": "code",
   "execution_count": null,
   "metadata": {},
   "outputs": [],
   "source": []
  },
  {
   "cell_type": "markdown",
   "metadata": {},
   "source": [
    "\n",
    "<div class=\"admonition alert alert-warning\">\n",
    "    <p class=\"admonition-title\" style=\"font-weight:bold\">Warning: Be careful when working with floating coordinate labels</p>\n",
    "        \n",
    "    When we have integer, string, datetime-like values for coordinate labels, \"sel()\" works flawlessly. When we try to work with floating coordinate labels, things get a little tricky:\n",
    "        \n",
    "</div>\n",
    "\n",
    "\n"
   ]
  },
  {
   "cell_type": "code",
   "execution_count": null,
   "metadata": {},
   "outputs": [],
   "source": []
  },
  {
   "cell_type": "markdown",
   "metadata": {},
   "source": [
    "### Nearest-neighbor lookups\n",
    "\n",
    "As shown above, when our coordinate labels are not integers or strings or datetime-like but floating point numbers, `.sel()` may throw a `KeyError`:"
   ]
  },
  {
   "cell_type": "markdown",
   "metadata": {},
   "source": [
    "`ds.tas.sel(lat=39.5, lon=105.7)` fails because we are trying to use a conditional for an approximate value i.e floating numbers are represented approximately inside the computer, and xarray is unable to locate this exact value. To address this issue, xarray supports `method` and `tolerance` keyword argument. The `method` parameter allows for enabling nearest neighbor (inexact) lookups by use of the methods `'pad', 'backfill' or 'nearest'`: "
   ]
  },
  {
   "cell_type": "code",
   "execution_count": null,
   "metadata": {},
   "outputs": [],
   "source": []
  },
  {
   "cell_type": "markdown",
   "metadata": {},
   "source": [
    "So the closest location in the data was at `lat=39.11`, `lon=106.2`."
   ]
  },
  {
   "cell_type": "markdown",
   "metadata": {},
   "source": [
    "See the [xarray documentation](https://xarray.pydata.org/en/stable/generated/xarray.DataArray.sel.html) for more on usage of `method` and `tolerance` parameters in `.sel()`. "
   ]
  },
  {
   "cell_type": "markdown",
   "metadata": {},
   "source": [
    "<div class=\"admonition alert alert-info\">\n",
    "    <p class=\"title\" style=\"font-weight:bold\">Tip</p>\n",
    "Another way to use the nearest neighbor lookup is via slice objects. For e.g.:\n",
    "</div>"
   ]
  },
  {
   "cell_type": "code",
   "execution_count": null,
   "metadata": {},
   "outputs": [],
   "source": []
  },
  {
   "cell_type": "markdown",
   "metadata": {},
   "source": [
    "Operators can be chained, so multiple operations can be peformed sequentially. For example, to select an area of interest and the first time index"
   ]
  },
  {
   "cell_type": "code",
   "execution_count": null,
   "metadata": {},
   "outputs": [],
   "source": []
  },
  {
   "cell_type": "markdown",
   "metadata": {},
   "source": [
    "### Interpolation\n",
    "\n",
    "If we want to interpolate along coordinates rather than looking up the nearest neighbos, we can use the `.interp()` method. To use `interp()` requires the presence of `scipy` library. \n"
   ]
  },
  {
   "cell_type": "code",
   "execution_count": null,
   "metadata": {},
   "outputs": [],
   "source": []
  },
  {
   "cell_type": "markdown",
   "metadata": {},
   "source": [
    "---"
   ]
  },
  {
   "cell_type": "code",
   "execution_count": null,
   "metadata": {},
   "outputs": [],
   "source": [
    "%load_ext watermark\n",
    "%watermark --time --python --updated --iversion"
   ]
  },
  {
   "cell_type": "markdown",
   "metadata": {},
   "source": [
    "## Summary \n",
    "\n",
    "- Xarray’s named dimensions and labeled coordinates free the user from having to track positional ordering of dimensions when accessing data\n",
    "- Xarray provides a variety of methods for subsetting data via `.sel()`, `.isel()`, `.interp()` methods\n"
   ]
  },
  {
   "cell_type": "markdown",
   "metadata": {},
   "source": [
    "## Resources and References\n",
    "\n",
    "- [Xarray Documentation - Indexing and Selecting Data](https://xarray.pydata.org/en/stable/indexing.html)\n",
    "- [Xarray Documentation - Interpolation](https://xarray.pydata.org/en/stable/user-guide/interpolation.html)\n"
   ]
  },
  {
   "cell_type": "markdown",
   "metadata": {},
   "source": [
    "<div class=\"admonition alert alert-success\">\n",
    "    <p class=\"title\" style=\"font-weight:bold\">Previous: <a href=\"./01-xarray-fundamentals.ipynb\">Xarray Fundamentals</a></p>\n",
    "    <p class=\"title\" style=\"font-weight:bold\">Next: <a href=\"./03-data-visualization.ipynb\">Data Visualization</a></p>\n",
    "</div>"
   ]
  }
 ],
 "metadata": {
  "kernelspec": {
   "display_name": "Python 3",
   "language": "python",
   "name": "python3"
  },
  "language_info": {
   "codemirror_mode": {
    "name": "ipython",
    "version": 3
   },
   "file_extension": ".py",
   "mimetype": "text/x-python",
   "name": "python",
   "nbconvert_exporter": "python",
   "pygments_lexer": "ipython3",
   "version": "3.9.4"
  },
  "toc-autonumbering": false,
  "toc-showcode": false,
  "toc-showmarkdowntxt": false,
  "toc-showtags": false
 },
 "nbformat": 4,
 "nbformat_minor": 4
}
